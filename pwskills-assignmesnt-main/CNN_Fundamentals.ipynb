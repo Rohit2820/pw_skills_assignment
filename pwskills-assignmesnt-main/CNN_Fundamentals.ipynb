{
 "cells": [
  {
   "cell_type": "code",
   "execution_count": 1,
   "id": "e8b0557e-359c-471d-9fa3-440a70d86f0d",
   "metadata": {},
   "outputs": [],
   "source": [
    "#1- Explain the basic components of a digital image and how it is represented in a computer. State the differences between grayscale and color images"
   ]
  },
  {
   "cell_type": "code",
   "execution_count": 2,
   "id": "7ee04535-25a0-40f9-89cf-7f34f59adc33",
   "metadata": {},
   "outputs": [],
   "source": [
    "#A digital image consists of pixels arranged in a grid, with each pixel containing intensity or color information.\n",
    "#Grayscale images have a single channel for brightness, while color images use three channels (RGB) to represent colors.\n",
    "#Grayscale images are simpler and less memory-intensive, whereas color images provide richer visual information."
   ]
  },
  {
   "cell_type": "code",
   "execution_count": 3,
   "id": "d9729017-4d18-4ac3-ae40-6516f5dc304e",
   "metadata": {},
   "outputs": [],
   "source": [
    "#2- Define Convolutional Neural Networks (CNNs) and discuss their role in image processing.Describe the key advantages of using CNNs over traditional neural networks for image-related tasks."
   ]
  },
  {
   "cell_type": "code",
   "execution_count": null,
   "id": "9d313cc2-bd24-4a54-a2c8-3675e74c80be",
   "metadata": {},
   "outputs": [],
   "source": [
    "#CNNs are specialized neural networks designed for tasks involving spatial and visual data, such as images. By leveraging convolutional and pooling operations, CNNs can automatically learn hierarchical features, reduce computational complexity, and achieve translational invariance. Compared to traditional neural networks, CNNs are more efficient, scalable, and effective in handling image-related tasks."
   ]
  },
  {
   "cell_type": "code",
   "execution_count": null,
   "id": "03a810c3-4ccd-4165-9e10-6fca441f407f",
   "metadata": {},
   "outputs": [],
   "source": [
    "#3- Define convolutional layers and their purpose in a CNN.Discuss the concept of filters and how they are applied during the convolution operation.Explain the use of padding and strides in convolutional layers and their impact on the output size."
   ]
  },
  {
   "cell_type": "code",
   "execution_count": null,
   "id": "59d8bdce-9868-42d4-a4c9-3551c4891b40",
   "metadata": {},
   "outputs": [],
   "source": [
    "#Convolutional layers extract features from input data using filters that learn to detect patterns like edges and textures.\n",
    "#Filters are small weight matrices applied through convolution to create feature maps.\n",
    "#Padding preserves edge information and can maintain input size, while strides control the spatial resolution of feature maps.\n",
    "#The combination of these parameters determines the efficiency, complexity, and resolution of the output in CNNs."
   ]
  },
  {
   "cell_type": "code",
   "execution_count": null,
   "id": "30b425df-b544-43da-af4f-2ca51cefe2c7",
   "metadata": {},
   "outputs": [],
   "source": [
    "#4- Describe the purpose of pooling layers in CNNs.Compare max pooling and average pooling operations."
   ]
  },
  {
   "cell_type": "code",
   "execution_count": null,
   "id": "d22b177b-3b91-4076-88ff-4ac9ac33877d",
   "metadata": {},
   "outputs": [],
   "source": [
    "#Pooling layers simplify feature maps by reducing dimensions while retaining key information.\n",
    "\n",
    "#Max pooling emphasizes prominent features, making it suitable for capturing sharp edges and textures.\n",
    "#Average pooling provides a smoother representation by averaging intensity values, which may be helpful for specific applications requiring smooth outputs.\n",
    "#Both methods have their strengths, and the choice depends on the specific task and model requirements."
   ]
  },
  {
   "cell_type": "code",
   "execution_count": null,
   "id": "c0f44971-c0dc-4f26-8d7e-79406f51c13d",
   "metadata": {},
   "outputs": [],
   "source": []
  },
  {
   "cell_type": "code",
   "execution_count": null,
   "id": "2a4c4e6a-d802-442a-910e-49943989d0d5",
   "metadata": {},
   "outputs": [],
   "source": []
  },
  {
   "cell_type": "code",
   "execution_count": null,
   "id": "470eb2fe-52b6-4c35-ab2f-9408c6c3e402",
   "metadata": {},
   "outputs": [],
   "source": []
  },
  {
   "cell_type": "code",
   "execution_count": null,
   "id": "2a102b1e-ae97-4e63-b3c2-506d84be22c8",
   "metadata": {},
   "outputs": [],
   "source": []
  },
  {
   "cell_type": "code",
   "execution_count": null,
   "id": "8753c09c-8e79-4085-9e7e-caa62dacc1e0",
   "metadata": {},
   "outputs": [],
   "source": []
  }
 ],
 "metadata": {
  "kernelspec": {
   "display_name": "Python 3 (ipykernel)",
   "language": "python",
   "name": "python3"
  },
  "language_info": {
   "codemirror_mode": {
    "name": "ipython",
    "version": 3
   },
   "file_extension": ".py",
   "mimetype": "text/x-python",
   "name": "python",
   "nbconvert_exporter": "python",
   "pygments_lexer": "ipython3",
   "version": "3.9.21"
  }
 },
 "nbformat": 4,
 "nbformat_minor": 5
}
