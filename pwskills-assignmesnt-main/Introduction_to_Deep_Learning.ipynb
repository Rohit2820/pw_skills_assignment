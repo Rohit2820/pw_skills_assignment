{
 "cells": [
  {
   "cell_type": "code",
   "execution_count": null,
   "id": "abcc3a0e-7e41-42b1-8d7b-755b892122f7",
   "metadata": {},
   "outputs": [],
   "source": [
    "#Introduction to Deep Learning Assignment questions."
   ]
  },
  {
   "cell_type": "code",
   "execution_count": 1,
   "id": "772e56a5-c4c3-47be-869c-3bdc180cb747",
   "metadata": {},
   "outputs": [],
   "source": [
    "#1- Explain what deep learning is and discuss its significance in the broader field of artificial intelligence."
   ]
  },
  {
   "cell_type": "code",
   "execution_count": 2,
   "id": "21d05a62-8c0e-424b-a985-a8835aff3e0c",
   "metadata": {},
   "outputs": [],
   "source": [
    "#Deep learning is a powerful and essential technique in the broader field of artificial intelligence. By enabling machines to automatically learn complex patterns from vast amounts of data, deep learning has revolutionized numerous industries, including healthcare, finance, robotics, and entertainment. Its ability to tackle high-dimensional, unstructured data makes it a cornerstone of modern AI applications. Despite challenges such as high data and computational requirements, deep learning continues to push the boundaries of what machines can achieve, making it a critical area of research and development in AI."
   ]
  },
  {
   "cell_type": "code",
   "execution_count": null,
   "id": "142e2bb4-7853-4640-acae-2628136c7dd4",
   "metadata": {},
   "outputs": [],
   "source": [
    "#2- List and explain the fundamental components of artificial neural networks."
   ]
  },
  {
   "cell_type": "code",
   "execution_count": null,
   "id": "8babdf15-b9ee-42b6-9f13-23930b5b647c",
   "metadata": {},
   "outputs": [],
   "source": [
    "#Neurons (Nodes or Units)\n",
    "#Neurons are the basic computational units of ANNs. Each neuron receives inputs, multiplies them by associated weights, adds a bias, and applies an activation function to produce an output. This output is passed to neurons in the next layer.\n",
    "\n",
    "#Layers\n",
    "#Input Layer: Accepts raw input data without processing.\n",
    "#Hidden Layers: Perform computations to extract patterns and features.\n",
    "#Output Layer: Produces the final prediction or classification result.\n",
    "\n",
    "#Weights\n",
    "#Weights are numerical values assigned to connections between neurons. They scale the inputs, determining their importance for a specific neuron. During training, weights are adjusted to improve the model's accuracy.\n",
    "\n",
    "#Biases\n",
    "#Biases are constants added to the weighted sum of inputs. They allow the activation function to shift, enabling neurons to model data more flexibly.\n",
    "\n",
    "#Connections\n",
    "#Connections link neurons between layers, transmitting information. Each connection has an associated weight that influences the data flow.\n",
    "\n",
    "#Activation Functions\n",
    "#Activation functions introduce non-linearity into the network, enabling it to learn complex patterns. Examples include Sigmoid, ReLU (Rectified Linear Unit), Tanh, and Softmax.\n",
    "\n",
    "#Loss Function\n",
    "#The loss function measures the difference between the predicted output and the actual target value. It guides the training process by quantifying the model’s error.\n",
    "\n",
    "#Optimizer\n",
    "#Optimizers update the weights and biases to minimize the loss function. Common optimizers include Gradient Descent and Adam.\n",
    "\n",
    "#Forward Propagation\n",
    "#Forward propagation involves passing input data through the network layer by layer to compute the output.\n",
    "\n",
    "#Backward Propagation\n",
    "#Backward propagation (backpropagation) calculates gradients of the loss function with respect to weights and biases. These gradients are used to update the parameters during training."
   ]
  },
  {
   "cell_type": "code",
   "execution_count": 3,
   "id": "fd3f6526-2a1e-4ef9-91c9-d800035ac6a9",
   "metadata": {},
   "outputs": [],
   "source": [
    "#3- Discuss the roles of neurons, connections, weights, and biases."
   ]
  },
  {
   "cell_type": "code",
   "execution_count": null,
   "id": "a9ad80b3-789f-4c46-bacf-61232f7d5d82",
   "metadata": {},
   "outputs": [],
   "source": [
    "#Neurons perform computations by aggregating inputs and applying activation functions. Connections link neurons and enable data flow, with weights scaling inputs to emphasize certain features. Biases shift the computations to improve flexibility and help fit complex patterns. Together, these components form the foundation of neural networks, allowing them to learn and model relationships in data."
   ]
  },
  {
   "cell_type": "code",
   "execution_count": 4,
   "id": "cc98b563-0ebe-4c61-a6f0-a2c8a40564ef",
   "metadata": {},
   "outputs": [],
   "source": [
    "#4- Illustrate the architecture of an artificial neural network. Provide an example to explain the flow of information through the network."
   ]
  },
  {
   "cell_type": "code",
   "execution_count": 5,
   "id": "a7df1d06-0fb1-4f67-8269-c2dac35d8f68",
   "metadata": {},
   "outputs": [],
   "source": [
    "#Architecture of an Artificial Neural Network (ANN)\n",
    "#An artificial neural network (ANN) typically consists of three types of layers:\n",
    "\n",
    "#Input Layer: Receives raw input data.\n",
    "#Hidden Layers: Perform computations to extract patterns and transform the data.\n",
    "#Output Layer: Produces the final prediction or decision.\n",
    "#Each layer comprises neurons connected to neurons in adjacent layers. The connections are associated with weights, and each neuron has a bias term. \n",
    "\n",
    "#Diagram of ANN Architecture\n",
    "#Input Layer: [x1] --> [Neuron1] --> [Output]\n",
    "#             [x2] --> [Neuron2]\n",
    "#             [x3]"
   ]
  },
  {
   "cell_type": "code",
   "execution_count": 6,
   "id": "192a18b8-eb2e-46b7-8d43-65e3e4f21e04",
   "metadata": {},
   "outputs": [],
   "source": [
    "#5- Outline the perceptron learning algorithm. Describe how weights are adjusted during the learning process."
   ]
  },
  {
   "cell_type": "code",
   "execution_count": null,
   "id": "66402f44-2e37-44b4-9bc9-ee5181c3113f",
   "metadata": {},
   "outputs": [],
   "source": [
    "#The perceptron learning algorithm adjusts weights iteratively based on classification errors. It uses the difference between the predicted and true labels to modify weights and bias. The process repeats until the model converges or a stopping criterion is met, making it effective for linearly separable datasets."
   ]
  },
  {
   "cell_type": "code",
   "execution_count": null,
   "id": "a8645dcb-3be4-4a73-8f95-2ac4d8cdf51b",
   "metadata": {},
   "outputs": [],
   "source": [
    "#6- Discuss the importance of activation functions in the hidden layers of a multi-layer perceptron. Provide examples of commonly used activation functions"
   ]
  },
  {
   "cell_type": "code",
   "execution_count": null,
   "id": "edfae1f8-12d1-4450-89bb-9aaf7ce3c460",
   "metadata": {},
   "outputs": [],
   "source": [
    "#Activation functions are essential for introducing non-linearity, enabling neural networks to learn complex patterns and solve real-world problems. Common functions like ReLU, Sigmoid, Tanh, and Softmax have specific strengths and weaknesses, making them suitable for different layers and tasks in a network."
   ]
  },
  {
   "cell_type": "code",
   "execution_count": null,
   "id": "a9fb35f9-81e0-4328-b43b-30ec10702ea9",
   "metadata": {},
   "outputs": [],
   "source": [
    "#Various Neural Network Architect Overview Assignments"
   ]
  },
  {
   "cell_type": "code",
   "execution_count": null,
   "id": "f8e55d39-b435-4465-b55e-aa3af2333894",
   "metadata": {},
   "outputs": [],
   "source": [
    "#1- Describe the basic structure of a Feedforward Neural Network (FNN). What is the purpose of the activation function?"
   ]
  },
  {
   "cell_type": "code",
   "execution_count": null,
   "id": "5effb5ef-f750-42ff-8129-8d32aecd67f6",
   "metadata": {},
   "outputs": [],
   "source": [
    "#A Feedforward Neural Network (FNN) is one of the simplest types of artificial neural networks where information flows in one direction—from the input layer through the hidden layers to the output layer. There are no cycles or loops in the network.\n",
    "#The activation function is applied at each neuron to introduce non-linearity and control the output of the neuron. It plays a critical role in making the neural network capable of learning and representing complex patterns."
   ]
  },
  {
   "cell_type": "code",
   "execution_count": null,
   "id": "6aac40c0-df0c-4308-8391-2781eac334c8",
   "metadata": {},
   "outputs": [],
   "source": [
    "#2- Explain the role of convolutional layers in CNN. Why are pooling layers commonly used, and what do they achieve?"
   ]
  },
  {
   "cell_type": "code",
   "execution_count": null,
   "id": "d4dd2fc4-90fe-4e51-a715-d4c72595da6d",
   "metadata": {},
   "outputs": [],
   "source": [
    "#Convolutional Layers: Extract hierarchical features by applying filters to input data, enabling the detection of edges, textures, and shapes while maintaining spatial relationships.\n",
    "#Pooling Layers: Reduce feature map size, prevent overfitting, and improve computational efficiency while preserving the most critical features. Max pooling focuses on prominent features, while average pooling smooths the representation. Both layers complement each other to improve the performance of CNNs."
   ]
  },
  {
   "cell_type": "code",
   "execution_count": 7,
   "id": "49754cac-f332-445b-8720-370024a6accf",
   "metadata": {},
   "outputs": [],
   "source": [
    "#3- What is the key characteristic that differentiates Recurrent Neural Networks (RNNs) from other neural networks? How does an RNN handle sequential data?"
   ]
  },
  {
   "cell_type": "code",
   "execution_count": null,
   "id": "fac86e08-8746-4486-88b4-08f99fe4da0d",
   "metadata": {},
   "outputs": [],
   "source": [
    "#The key characteristic that differentiates Recurrent Neural Networks (RNNs) from other neural networks is their ability to process sequential data by maintaining memory of previous inputs. Unlike traditional feedforward neural networks, where each input is processed independently, RNNs have recurrent connections that allow information to persist over time.\n",
    "\n",
    "#Sequential Data Handling in RNNs:\n",
    "#RNNs are designed to work with sequential data by introducing loops in their architecture, enabling them to retain information about previous time steps in the sequence. This makes RNNs especially suitable for tasks where the order of the input data is important, such as time series prediction, natural language processing, and speech recognition."
   ]
  },
  {
   "cell_type": "code",
   "execution_count": null,
   "id": "d2ef9bcf-48cb-47d8-8c44-1a4c628fd09f",
   "metadata": {},
   "outputs": [],
   "source": [
    "#4- Discuss the components of a Long Short-Term Memory (LSTM) network. How does it address the vanishing gradient problem?"
   ]
  },
  {
   "cell_type": "code",
   "execution_count": null,
   "id": "f1c064c6-c507-4af3-86d4-3fb941be8320",
   "metadata": {},
   "outputs": [],
   "source": [
    "#LSTM networks are designed to handle long-term dependencies in sequential data by utilizing specialized components, including the cell state, forget gate, input gate, and output gate. These gates enable LSTMs to control the flow of information, addressing the vanishing gradient problem by preserving important gradients over long sequences. By selectively remembering or forgetting information, LSTMs are more capable than traditional RNNs in tasks requiring long-term memory and complex pattern learning."
   ]
  },
  {
   "cell_type": "code",
   "execution_count": 8,
   "id": "4c0e70d4-2b5b-4e4e-a419-ceeeabeeb8d3",
   "metadata": {},
   "outputs": [],
   "source": [
    "#Describe the roles of the generator and discriminator in a Generative Adversarial Network (GAN). What is the training objective for each?"
   ]
  },
  {
   "cell_type": "code",
   "execution_count": null,
   "id": "0168bee9-5193-4b8d-93b9-fa0ed1d8ffc0",
   "metadata": {},
   "outputs": [],
   "source": [
    "#The generator in a GAN is responsible for generating synthetic data that resembles real data, with the goal of fooling the discriminator into classifying it as real.\n",
    "#The discriminator is responsible for distinguishing real data from fake data, acting as a binary classifier.\n",
    "#The training objective of the generator is to minimize the discriminator's ability to differentiate between real and fake data, while the discriminator's objective is to maximize its accuracy in distinguishing real data from fake data.\n",
    "#The generator and discriminator are in a competitive, adversarial relationship that drives the"
   ]
  }
 ],
 "metadata": {
  "kernelspec": {
   "display_name": "Python 3 (ipykernel)",
   "language": "python",
   "name": "python3"
  },
  "language_info": {
   "codemirror_mode": {
    "name": "ipython",
    "version": 3
   },
   "file_extension": ".py",
   "mimetype": "text/x-python",
   "name": "python",
   "nbconvert_exporter": "python",
   "pygments_lexer": "ipython3",
   "version": "3.9.21"
  }
 },
 "nbformat": 4,
 "nbformat_minor": 5
}
